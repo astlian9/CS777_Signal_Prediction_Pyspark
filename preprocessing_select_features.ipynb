{
 "cells": [
  {
   "cell_type": "code",
   "execution_count": 1,
   "id": "26847713",
   "metadata": {},
   "outputs": [],
   "source": [
    "import sys\n",
    "import re\n",
    "import datetime\n",
    "import numpy as np\n",
    "import pandas as pd\n",
    "from numpy import dot\n",
    "from numpy.linalg import norm\n",
    "from pyspark import *\n",
    "from pyspark.sql import *\n",
    "import pyspark.sql.functions as F\n",
    "from pyspark.sql import SparkSession\n",
    "from pyspark.sql.types import IntegerType, StringType, ArrayType, StructType, StructField, FloatType, DoubleType\n",
    "from pyspark.ml.feature import VectorAssembler\n",
    "from pyspark.ml.stat import Correlation\n",
    "from pyspark.ml.regression import LinearRegression\n",
    "import matplotlib.pyplot as plt"
   ]
  },
  {
   "cell_type": "code",
   "execution_count": 2,
   "id": "c01e7725",
   "metadata": {},
   "outputs": [],
   "source": [
    "sc.stop()\n",
    "spark = SparkSession.builder.appName('haha').getOrCreate()"
   ]
  },
  {
   "cell_type": "code",
   "execution_count": 3,
   "id": "c621cf15",
   "metadata": {},
   "outputs": [
    {
     "name": "stderr",
     "output_type": "stream",
     "text": [
      "                                                                                \r"
     ]
    }
   ],
   "source": [
    "rawdata = spark.read.option('header','true').option('inferSchema','true').csv('mobile_coverage.csv')"
   ]
  },
  {
   "cell_type": "code",
   "execution_count": 4,
   "id": "8647e62c",
   "metadata": {},
   "outputs": [
    {
     "name": "stdout",
     "output_type": "stream",
     "text": [
      "+-------------------+-------------------+---------+---------+------+-------+--------+------+--------------------+---+-----+----------+----------+--------+----------+-------------+-----------+-----------+---------+\n",
      "|               date|               hour|      lat|     long|signal|network|operator|status|         description|net|speed|satellites|precission|provider|  activity|downloadSpeed|uploadSpeed|postal_code|town_name|\n",
      "+-------------------+-------------------+---------+---------+------+-------+--------+------+--------------------+---+-----+----------+----------+--------+----------+-------------+-----------+-----------+---------+\n",
      "|2016-01-16 00:00:00|2023-04-21 16:55:40|  10.5578|-83.51559|     2|   null|    null|     0|    STATE_IN_SERVICE| 3G| 14.7|       4.0|     128.0|     gps|IN_VEHICLE|         null|       null|       null|     null|\n",
      "|2016-05-15 00:00:00|2023-04-21 17:30:06| 42.58326|  1.66264|     3|   null|    null|     0|    STATE_IN_SERVICE| 2G|  0.0|       2.0|      17.0|     gps|IN_VEHICLE|         null|       null|       null|     null|\n",
      "|2015-12-09 00:00:00|2023-04-21 22:25:05| 28.52358|-13.89168|    11|   null|    null|     2|STATE_EMERGENCY_ONLY| 3G| 51.9|       0.0|      46.0|   fused|   TILTING|         null|       null|       null|     null|\n",
      "|2016-01-17 00:00:00|2023-04-21 22:02:09| 42.50828|  1.53738|    24|   null|    null|     0|    STATE_IN_SERVICE| 2G|  3.0|       6.0|      14.0|     gps|   ON_FOOT|         null|       null|       null|     null|\n",
      "|2016-01-02 00:00:00|2023-04-21 12:38:20| 42.52264|   1.5609|    17|   null|    null|     0|    STATE_IN_SERVICE| 2G|  0.0|       6.0|      10.0|     gps|IN_VEHICLE|         null|       null|       null|     null|\n",
      "|2016-07-31 00:00:00|2023-04-21 16:33:31| 42.44793|  1.48168|    31|   null|    null|     0|    STATE_IN_SERVICE| 2G|  1.3|       4.0|      37.0|     gps|   UNKNOWN|         null|       null|       null|     null|\n",
      "|2015-12-05 00:00:00|2023-04-21 12:22:38| 28.39989|-13.85866|    14|   null|    null|     2|STATE_EMERGENCY_ONLY| 2G|  0.2|       0.0|      10.0|     gps|   ON_FOOT|         null|       null|       null|     null|\n",
      "|2015-12-07 00:00:00|2023-04-21 19:48:10| 28.17239|-14.21251|    10|   null|    null|     2|STATE_EMERGENCY_ONLY| 4G| 62.9|       6.0|      12.0|     gps|IN_VEHICLE|         null|       null|       null|     null|\n",
      "|2015-09-17 00:00:00|2023-04-21 18:42:52|-23.95623|-46.41216|     8|   null|    null|     2|STATE_EMERGENCY_ONLY| 2G| 14.7|       3.0|      58.0|     gps|ON_BICYCLE|         null|       null|       null|     null|\n",
      "|2015-03-06 00:00:00|2023-04-21 16:41:51| 42.57564|  1.62252|    15|   null|    null|     2|STATE_EMERGENCY_ONLY| 2G| 22.0|       2.0|     141.0|     gps|     STILL|         null|       null|       null|     null|\n",
      "|2015-07-14 00:00:00|2023-04-21 16:34:31| 42.43582|  1.47336|    20|   null|    null|     0|    STATE_IN_SERVICE| 2G|  3.3|      12.0|      19.0|     gps|IN_VEHICLE|         null|       null|       null|     null|\n",
      "|2016-04-15 00:00:00|2023-04-21 14:45:38| 42.50565|  1.52766|    29|   null|    null|     0|    STATE_IN_SERVICE| 2G|  0.6|       6.0|      32.0|     gps|     STILL|         null|       null|       null|     null|\n",
      "|2016-11-26 00:00:00|2023-04-21 11:27:11| 42.48502|  1.49203|    10|   null|    null|     0|    STATE_IN_SERVICE| 4G| 36.6|       0.0|      19.0|     gps|IN_VEHICLE|         null|       null|       null|     null|\n",
      "|2015-12-05 00:00:00|2023-04-21 12:09:53| 28.39949|-13.85885|    21|   null|    null|     2|STATE_EMERGENCY_ONLY| 2G|  5.9|       2.0|      11.0|     gps|   ON_FOOT|         null|       null|       null|     null|\n",
      "|2015-12-08 00:00:00|2023-04-21 14:38:46| 28.40068|-14.15672|     1|   null|    null|     2|STATE_EMERGENCY_ONLY| 2G|  1.4|       4.0|      17.0|     gps|   ON_FOOT|         null|       null|       null|     null|\n",
      "|2015-10-18 00:00:00|2023-04-21 09:28:06| 46.35144|  6.46738|    15|   null|    null|     0|    STATE_IN_SERVICE| 3G| 31.7|       4.0|      32.0|     gps|IN_VEHICLE|         null|       null|       null|     null|\n",
      "|2015-03-08 00:00:00|2023-04-21 10:58:04| 42.44242|  1.50097|    16|   null|    null|     2|STATE_EMERGENCY_ONLY| 2G|  0.5|       4.0|      20.0|     gps|IN_VEHICLE|         null|       null|       null|     null|\n",
      "|2016-04-12 00:00:00|2023-04-21 17:16:35| 42.55525|  1.53215|    12|   null|    null|     0|    STATE_IN_SERVICE| 2G|  3.6|       7.0|      48.0|     gps|   UNKNOWN|         null|       null|       null|     null|\n",
      "|2016-06-18 00:00:00|2023-04-21 09:10:04|  42.5641|  1.59225|    14|   null|    null|     0|    STATE_IN_SERVICE| 2G| 40.9|       3.0|      14.0|     gps|IN_VEHICLE|         null|       null|       null|     null|\n",
      "|2016-06-29 00:00:00|2023-04-21 05:08:08|-14.88293|-40.88386|     6|   null|    null|     0|    STATE_IN_SERVICE| 2G|  0.0|       0.0|      28.0|   fused|     STILL|         null|       null|       null|     null|\n",
      "+-------------------+-------------------+---------+---------+------+-------+--------+------+--------------------+---+-----+----------+----------+--------+----------+-------------+-----------+-----------+---------+\n",
      "only showing top 20 rows\n",
      "\n"
     ]
    }
   ],
   "source": [
    "rawdata.show()"
   ]
  },
  {
   "cell_type": "code",
   "execution_count": 5,
   "id": "957293f1",
   "metadata": {},
   "outputs": [
    {
     "name": "stderr",
     "output_type": "stream",
     "text": [
      "                                                                                \r"
     ]
    },
    {
     "data": {
      "text/plain": [
       "[Row(status=0, description='STATE_IN_SERVICE', count(date)=1313787),\n",
       " Row(status=3, description='STATE_POWER_OFF', count(date)=29676),\n",
       " Row(status=2, description='STATE_EMERGENCY_ONLY', count(date)=10401304),\n",
       " Row(status=1, description='STATE_OUT_OF_SERVICE', count(date)=147)]"
      ]
     },
     "execution_count": 5,
     "metadata": {},
     "output_type": "execute_result"
    }
   ],
   "source": [
    "rawdata.groupby('status','description').agg(F.count(F.col('date'))).collect()"
   ]
  },
  {
   "cell_type": "code",
   "execution_count": 6,
   "id": "4d39101c",
   "metadata": {},
   "outputs": [
    {
     "name": "stdout",
     "output_type": "stream",
     "text": [
      "+-----+------+\n",
      "|month|signal|\n",
      "+-----+------+\n",
      "|    1|     2|\n",
      "|    5|     3|\n",
      "|   12|    11|\n",
      "|    1|    24|\n",
      "|    1|    17|\n",
      "|    7|    31|\n",
      "|   12|    14|\n",
      "|   12|    10|\n",
      "|    9|     8|\n",
      "|    3|    15|\n",
      "|    7|    20|\n",
      "|    4|    29|\n",
      "|   11|    10|\n",
      "|   12|    21|\n",
      "|   12|     1|\n",
      "|   10|    15|\n",
      "|    3|    16|\n",
      "|    4|    12|\n",
      "|    6|    14|\n",
      "|    6|     6|\n",
      "+-----+------+\n",
      "only showing top 20 rows\n",
      "\n"
     ]
    }
   ],
   "source": [
    "data_1 = rawdata.select(F.substring('date',6,2).cast(IntegerType()).alias('month'),'signal')\n",
    "data_1.show()"
   ]
  },
  {
   "cell_type": "code",
   "execution_count": 7,
   "id": "96d41fdc",
   "metadata": {},
   "outputs": [
    {
     "name": "stderr",
     "output_type": "stream",
     "text": [
      "                                                                                \r"
     ]
    },
    {
     "name": "stdout",
     "output_type": "stream",
     "text": [
      "23/04/21 16:05:03 WARN InstanceBuilder$NativeBLAS: Failed to load implementation from:dev.ludovic.netlib.blas.JNIBLAS\n",
      "23/04/21 16:05:03 WARN InstanceBuilder$NativeBLAS: Failed to load implementation from:dev.ludovic.netlib.blas.ForeignLinkerBLAS\n",
      "23/04/21 16:05:03 WARN InstanceBuilder$JavaBLAS: Failed to load implementation from:dev.ludovic.netlib.blas.VectorBLAS\n"
     ]
    },
    {
     "name": "stderr",
     "output_type": "stream",
     "text": [
      "                                                                                \r"
     ]
    },
    {
     "data": {
      "text/plain": [
       "[Row(pearson(features)=DenseMatrix(2, 2, [1.0, -0.0121, -0.0121, 1.0], False))]"
      ]
     },
     "execution_count": 7,
     "metadata": {},
     "output_type": "execute_result"
    }
   ],
   "source": [
    "assembler = VectorAssembler(inputCols=[\"month\", \"signal\"], outputCol=\"features\")\n",
    "df_vector = assembler.transform(data_1)\n",
    "correlation_matrix = Correlation.corr(df_vector, \"features\", \"pearson\")\n",
    "correlation_matrix.collect()"
   ]
  },
  {
   "cell_type": "code",
   "execution_count": 8,
   "id": "d752c415",
   "metadata": {},
   "outputs": [
    {
     "name": "stderr",
     "output_type": "stream",
     "text": [
      "                                                                                \r"
     ]
    },
    {
     "data": {
      "text/plain": [
       "[Row(activity='IN_VEHICLE'),\n",
       " Row(activity='TILTING'),\n",
       " Row(activity='ON_FOOT'),\n",
       " Row(activity=None),\n",
       " Row(activity='UNKNOWN'),\n",
       " Row(activity='STILL'),\n",
       " Row(activity='ON_BICYCLE')]"
      ]
     },
     "execution_count": 8,
     "metadata": {},
     "output_type": "execute_result"
    }
   ],
   "source": [
    "rawdata.select('activity').distinct().collect()"
   ]
  },
  {
   "cell_type": "code",
   "execution_count": 9,
   "id": "278c5b39",
   "metadata": {},
   "outputs": [
    {
     "name": "stderr",
     "output_type": "stream",
     "text": [
      "                                                                                \r"
     ]
    },
    {
     "data": {
      "text/plain": [
       "[Row(activity='IN_VEHICLE', avg(speed)=46.27297957912117),\n",
       " Row(activity='TILTING', avg(speed)=8.43970966550125),\n",
       " Row(activity='ON_FOOT', avg(speed)=4.491999974896098),\n",
       " Row(activity=None, avg(speed)=18.418592978899998),\n",
       " Row(activity='UNKNOWN', avg(speed)=6.704919717837404),\n",
       " Row(activity='STILL', avg(speed)=7.418260140887934),\n",
       " Row(activity='ON_BICYCLE', avg(speed)=17.71270950437317)]"
      ]
     },
     "execution_count": 9,
     "metadata": {},
     "output_type": "execute_result"
    }
   ],
   "source": [
    "rawdata.groupBy('activity').agg(F.avg('speed')).collect()"
   ]
  },
  {
   "cell_type": "code",
   "execution_count": 10,
   "id": "5209df11",
   "metadata": {},
   "outputs": [
    {
     "name": "stdout",
     "output_type": "stream",
     "text": [
      "23/04/21 16:05:14 WARN Instrumentation: [cf96d013] regParam is zero, which might cause numerical instability and overfitting.\n"
     ]
    },
    {
     "name": "stderr",
     "output_type": "stream",
     "text": [
      "                                                                                \r"
     ]
    },
    {
     "name": "stdout",
     "output_type": "stream",
     "text": [
      "23/04/21 16:05:19 WARN InstanceBuilder$NativeLAPACK: Failed to load implementation from:dev.ludovic.netlib.lapack.JNILAPACK\n"
     ]
    },
    {
     "name": "stderr",
     "output_type": "stream",
     "text": [
      "[Stage 21:===================================================>    (11 + 1) / 12]\r"
     ]
    },
    {
     "name": "stdout",
     "output_type": "stream",
     "text": [
      "Coefficients: [38.85471943820712,-2.9262601660179683,10.294449363459108]\n",
      "Intercept: 7.418260140914065\n"
     ]
    },
    {
     "name": "stderr",
     "output_type": "stream",
     "text": [
      "\r",
      "                                                                                \r"
     ]
    }
   ],
   "source": [
    "data_2 = rawdata.select(F.col('speed').alias('y'),F.when(F.col('activity')=='IN_VEHICLE',1).otherwise(0).alias('V'),\n",
    "                       F.when(F.col('activity')=='ON_FOOT',1).otherwise(0).alias('F'),\n",
    "                       F.when(F.col('activity')=='ON_BICYCLE',1).otherwise(0).alias('B'),\n",
    "                       F.when(F.col('activity')=='STILL',1).otherwise(0).alias('S'))\n",
    "assembler = VectorAssembler(outputCol=\"features\")\n",
    "assembler.setInputCols([\"V\", \"F\", \"B\"])\n",
    "df = assembler.transform(data_2.filter(F.col(\"V\")+F.col(\"F\")+F.col(\"B\")+F.col(\"S\")>0))\n",
    "lr = LinearRegression(featuresCol=\"features\", labelCol=\"y\")\n",
    "model = lr.fit(df)\n",
    "print(\"Coefficients: \" + str(model.coefficients))\n",
    "print(\"Intercept: \" + str(model.intercept))"
   ]
  },
  {
   "cell_type": "code",
   "execution_count": 11,
   "id": "b94a0857",
   "metadata": {},
   "outputs": [
    {
     "name": "stdout",
     "output_type": "stream",
     "text": [
      "+---+---+---+---+---+-------------+\n",
      "|  y|  0|  1|  2|  3|     features|\n",
      "+---+---+---+---+---+-------------+\n",
      "|  2|  1|  0|  0|  0|[1.0,0.0,0.0]|\n",
      "| 11|  0|  0|  1|  0|[0.0,1.0,0.0]|\n",
      "| 24|  1|  0|  0|  0|[1.0,0.0,0.0]|\n",
      "| 31|  1|  0|  0|  0|[1.0,0.0,0.0]|\n",
      "| 14|  0|  0|  1|  0|[0.0,1.0,0.0]|\n",
      "| 10|  0|  0|  1|  0|[0.0,1.0,0.0]|\n",
      "|  8|  0|  0|  1|  0|[0.0,1.0,0.0]|\n",
      "| 15|  0|  0|  1|  0|[0.0,1.0,0.0]|\n",
      "| 20|  1|  0|  0|  0|[1.0,0.0,0.0]|\n",
      "| 29|  1|  0|  0|  0|[1.0,0.0,0.0]|\n",
      "| 10|  1|  0|  0|  0|[1.0,0.0,0.0]|\n",
      "| 21|  0|  0|  1|  0|[0.0,1.0,0.0]|\n",
      "|  1|  0|  0|  1|  0|[0.0,1.0,0.0]|\n",
      "| 15|  1|  0|  0|  0|[1.0,0.0,0.0]|\n",
      "| 16|  0|  0|  1|  0|[0.0,1.0,0.0]|\n",
      "| 12|  1|  0|  0|  0|[1.0,0.0,0.0]|\n",
      "| 14|  1|  0|  0|  0|[1.0,0.0,0.0]|\n",
      "| 13|  1|  0|  0|  0|[1.0,0.0,0.0]|\n",
      "|  5|  0|  0|  1|  0|[0.0,1.0,0.0]|\n",
      "| 15|  1|  0|  0|  0|[1.0,0.0,0.0]|\n",
      "+---+---+---+---+---+-------------+\n",
      "only showing top 20 rows\n",
      "\n"
     ]
    }
   ],
   "source": [
    "data_2 = rawdata.select(F.col('signal').alias('y'),F.when(F.col('status')==0,1).otherwise(0).alias('0'),\n",
    "                       F.when(F.col('status')==1,1).otherwise(0).alias('1'),\n",
    "                       F.when(F.col('status')==2,1).otherwise(0).alias('2'),\n",
    "                       F.when(F.col('status')==3,1).otherwise(0).alias('3'))\n",
    "assembler = VectorAssembler(outputCol=\"features\")\n",
    "assembler.setInputCols([\"0\", \"2\", \"3\"])\n",
    "df = assembler.transform(data_2.filter(F.col(\"2\")+F.col(\"3\")+F.col(\"0\")>0).filter(F.col('speed')>0))\n",
    "df.show()"
   ]
  },
  {
   "cell_type": "code",
   "execution_count": 12,
   "id": "a1579612",
   "metadata": {},
   "outputs": [
    {
     "name": "stderr",
     "output_type": "stream",
     "text": [
      "                                                                                \r"
     ]
    },
    {
     "data": {
      "text/html": [
       "<div>\n",
       "<style scoped>\n",
       "    .dataframe tbody tr th:only-of-type {\n",
       "        vertical-align: middle;\n",
       "    }\n",
       "\n",
       "    .dataframe tbody tr th {\n",
       "        vertical-align: top;\n",
       "    }\n",
       "\n",
       "    .dataframe thead th {\n",
       "        text-align: right;\n",
       "    }\n",
       "</style>\n",
       "<table border=\"1\" class=\"dataframe\">\n",
       "  <thead>\n",
       "    <tr style=\"text-align: right;\">\n",
       "      <th></th>\n",
       "      <th>status</th>\n",
       "      <th>signal</th>\n",
       "      <th>num</th>\n",
       "    </tr>\n",
       "  </thead>\n",
       "  <tbody>\n",
       "    <tr>\n",
       "      <th>0</th>\n",
       "      <td>3</td>\n",
       "      <td>22</td>\n",
       "      <td>597</td>\n",
       "    </tr>\n",
       "    <tr>\n",
       "      <th>1</th>\n",
       "      <td>3</td>\n",
       "      <td>15</td>\n",
       "      <td>1335</td>\n",
       "    </tr>\n",
       "    <tr>\n",
       "      <th>2</th>\n",
       "      <td>3</td>\n",
       "      <td>30</td>\n",
       "      <td>134</td>\n",
       "    </tr>\n",
       "    <tr>\n",
       "      <th>3</th>\n",
       "      <td>0</td>\n",
       "      <td>25</td>\n",
       "      <td>16420</td>\n",
       "    </tr>\n",
       "    <tr>\n",
       "      <th>4</th>\n",
       "      <td>0</td>\n",
       "      <td>57</td>\n",
       "      <td>595</td>\n",
       "    </tr>\n",
       "    <tr>\n",
       "      <th>...</th>\n",
       "      <td>...</td>\n",
       "      <td>...</td>\n",
       "      <td>...</td>\n",
       "    </tr>\n",
       "    <tr>\n",
       "      <th>221</th>\n",
       "      <td>2</td>\n",
       "      <td>87</td>\n",
       "      <td>3</td>\n",
       "    </tr>\n",
       "    <tr>\n",
       "      <th>222</th>\n",
       "      <td>2</td>\n",
       "      <td>86</td>\n",
       "      <td>1</td>\n",
       "    </tr>\n",
       "    <tr>\n",
       "      <th>223</th>\n",
       "      <td>1</td>\n",
       "      <td>56</td>\n",
       "      <td>1</td>\n",
       "    </tr>\n",
       "    <tr>\n",
       "      <th>224</th>\n",
       "      <td>1</td>\n",
       "      <td>2</td>\n",
       "      <td>1</td>\n",
       "    </tr>\n",
       "    <tr>\n",
       "      <th>225</th>\n",
       "      <td>1</td>\n",
       "      <td>51</td>\n",
       "      <td>1</td>\n",
       "    </tr>\n",
       "  </tbody>\n",
       "</table>\n",
       "<p>226 rows × 3 columns</p>\n",
       "</div>"
      ],
      "text/plain": [
       "     status  signal    num\n",
       "0         3      22    597\n",
       "1         3      15   1335\n",
       "2         3      30    134\n",
       "3         0      25  16420\n",
       "4         0      57    595\n",
       "..      ...     ...    ...\n",
       "221       2      87      3\n",
       "222       2      86      1\n",
       "223       1      56      1\n",
       "224       1       2      1\n",
       "225       1      51      1\n",
       "\n",
       "[226 rows x 3 columns]"
      ]
     },
     "execution_count": 12,
     "metadata": {},
     "output_type": "execute_result"
    }
   ],
   "source": [
    "result = rawdata.groupby('status','signal').agg(F.count('date').alias('num')).toPandas()\n",
    "result"
   ]
  },
  {
   "cell_type": "code",
   "execution_count": 13,
   "id": "193b9eee",
   "metadata": {},
   "outputs": [
    {
     "data": {
      "image/png": "[encoded data removed]",
      "text/plain": [
       "<Figure size 432x288 with 1 Axes>"
      ]
     },
     "metadata": {
      "needs_background": "light"
     },
     "output_type": "display_data"
    },
    {
     "data": {
      "image/png": "[encoded data removed]",
      "text/plain": [
       "<Figure size 432x288 with 1 Axes>"
      ]
     },
     "metadata": {
      "needs_background": "light"
     },
     "output_type": "display_data"
    },
    {
     "data": {
      "image/png": "[encoded data removed]",
      "text/plain": [
       "<Figure size 432x288 with 1 Axes>"
      ]
     },
     "metadata": {
      "needs_background": "light"
     },
     "output_type": "display_data"
    },
    {
     "data": {
      "image/png": "[encoded data removed]",
      "text/plain": [
       "<Figure size 432x288 with 1 Axes>"
      ]
     },
     "metadata": {
      "needs_background": "light"
     },
     "output_type": "display_data"
    }
   ],
   "source": [
    "for i in range(4):\n",
    "    data_plt = result[result['status']==i]\n",
    "    plt.hist(data_plt['signal'], weights=data_plt['num'], bins=10, alpha=0.5, label=i)\n",
    "    plt.legend()\n",
    "    plt.show()\n"
   ]
  },
  {
   "cell_type": "code",
   "execution_count": 14,
   "id": "a3a38d0b",
   "metadata": {},
   "outputs": [
    {
     "name": "stdout",
     "output_type": "stream",
     "text": [
      "23/04/21 16:05:27 WARN Instrumentation: [472c070d] regParam is zero, which might cause numerical instability and overfitting.\n"
     ]
    },
    {
     "name": "stderr",
     "output_type": "stream",
     "text": [
      "                                                                                \r"
     ]
    },
    {
     "name": "stdout",
     "output_type": "stream",
     "text": [
      "23/04/21 16:05:31 WARN Instrumentation: [472c070d] Cholesky solver failed due to singular covariance matrix. Retrying with Quasi-Newton solver.\n"
     ]
    },
    {
     "name": "stderr",
     "output_type": "stream",
     "text": [
      "[Stage 29:===================================================>    (11 + 1) / 12]\r"
     ]
    },
    {
     "name": "stdout",
     "output_type": "stream",
     "text": [
      "Coefficients: [-0.7261159687399789,0.7570343635766049,-1.6335069189673879]\n",
      "Intercept: 12.640077124194004\n"
     ]
    },
    {
     "name": "stderr",
     "output_type": "stream",
     "text": [
      "\r",
      "                                                                                \r"
     ]
    }
   ],
   "source": [
    "lr = LinearRegression(featuresCol=\"features\", labelCol=\"y\")\n",
    "model = lr.fit(df)\n",
    "print(\"Coefficients: \" + str(model.coefficients))\n",
    "print(\"Intercept: \" + str(model.intercept))"
   ]
  }
 ],
 "metadata": {
  "kernelspec": {
   "display_name": "Python 3 (ipykernel)",
   "language": "python",
   "name": "python3"
  },
  "language_info": {
   "codemirror_mode": {
    "name": "ipython",
    "version": 3
   },
   "file_extension": ".py",
   "mimetype": "text/x-python",
   "name": "python",
   "nbconvert_exporter": "python",
   "pygments_lexer": "ipython3",
   "version": "3.9.12"
  }
 },
 "nbformat": 4,
 "nbformat_minor": 5
}
