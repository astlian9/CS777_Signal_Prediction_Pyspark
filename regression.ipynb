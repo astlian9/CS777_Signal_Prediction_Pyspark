{
 "cells": [
  {
   "cell_type": "code",
   "execution_count": 1,
   "id": "ded97fdb",
   "metadata": {},
   "outputs": [],
   "source": [
    "import sys\n",
    "import re\n",
    "import datetime\n",
    "import numpy as np\n",
    "import pandas as pd\n",
    "from numpy import dot\n",
    "from numpy.linalg import norm\n",
    "from pyspark import *\n",
    "from pyspark.sql import *\n",
    "import pyspark.sql.functions as F\n",
    "from pyspark.sql import SparkSession\n",
    "from pyspark.sql.types import IntegerType, StringType, ArrayType, StructType, StructField, FloatType, DoubleType\n",
    "from pyspark.ml.feature import VectorAssembler, StringIndexer,  OneHotEncoder, StandardScaler\n",
    "from pyspark.ml.stat import Correlation\n",
    "from pyspark.ml.regression import LinearRegression,  RandomForestRegressor\n",
    "import matplotlib.pyplot as plt\n",
    "from pyspark.ml import Pipeline\n",
    "from pyspark.ml.tuning import CrossValidator, ParamGridBuilder, TrainValidationSplit\n",
    "from pyspark.ml.evaluation import RegressionEvaluator\n",
    "from pyspark.ml.linalg import SparseVector, DenseVector"
   ]
  },
  {
   "cell_type": "code",
   "execution_count": 2,
   "id": "c3a10ee4",
   "metadata": {},
   "outputs": [],
   "source": [
    "sc.stop()\n",
    "spark = SparkSession.builder.appName('regression').getOrCreate()"
   ]
  },
  {
   "cell_type": "code",
   "execution_count": 3,
   "id": "740db73b",
   "metadata": {},
   "outputs": [
    {
     "name": "stderr",
     "output_type": "stream",
     "text": [
      "                                                                                \r"
     ]
    }
   ],
   "source": [
    "data = spark.read.format('csv').option('header', 'true').option('inferSchema','true').load('data_cleaned.csv')\n",
    "data = data.limit(100000)                                                                       "
   ]
  },
  {
   "cell_type": "code",
   "execution_count": 4,
   "id": "f099b474",
   "metadata": {},
   "outputs": [],
   "source": [
    "data = data.repartition(500)"
   ]
  },
  {
   "cell_type": "code",
   "execution_count": 5,
   "id": "914937c0",
   "metadata": {},
   "outputs": [
    {
     "name": "stdout",
     "output_type": "stream",
     "text": [
      "+--------+--------+--------+------+---+-----+----------+----------+----------+-------+-----+\n",
      "|     lat|    long|operator|status|net|speed|satellites|precission|  activity|hour_24|label|\n",
      "+--------+--------+--------+------+---+-----+----------+----------+----------+-------+-----+\n",
      "|41.44828| 2.19933|  orange|     2| 4G| 11.1|      12.0|      16.0|IN_VEHICLE|     14| 14.0|\n",
      "|41.69224| 1.78829|movistar|     2| 4G|  4.9|      11.0|       7.0|   ON_FOOT|     12|  1.0|\n",
      "|41.41603|  2.1878|movistar|     0| 4G| 13.2|       6.0|      22.0|   ON_FOOT|     12| 20.0|\n",
      "|41.48979| 2.16727|  orange|     2| 4G| 10.4|       7.0|      14.0|ON_BICYCLE|     11| 18.0|\n",
      "|41.43914| 1.86436| jazztel|     2| 2G| 13.3|       5.0|      32.0|IN_VEHICLE|     22|  5.0|\n",
      "|26.68327|-81.9076|  others|     2| 4G|  1.9|       8.0|       3.0|   ON_FOOT|     17| 20.0|\n",
      "| 41.9066| 2.24868| jazztel|     2| 3G|113.8|      11.0|      15.0|IN_VEHICLE|     18| 12.0|\n",
      "|42.14808| 2.57902|  orange|     0| 2G|  2.5|       5.0|       9.0|IN_VEHICLE|     13|  8.0|\n",
      "|41.67071| 2.27547|  orange|     2| 3G| 98.0|       4.0|       3.0|IN_VEHICLE|     11| 14.0|\n",
      "|41.19431| 0.77823|  orange|     0| 4G|  0.6|       1.0|      15.0|   TILTING|     10| 10.0|\n",
      "|41.43112| 2.15092| jazztel|     2| 4G| 14.2|       8.0|      12.0|IN_VEHICLE|     11|  8.0|\n",
      "|42.16698| 2.47583|  orange|     2| 3G| 35.0|       4.0|       9.0|IN_VEHICLE|     11| 16.0|\n",
      "|41.44999| 2.19676|movistar|     2| 4G| 45.8|       3.0|      34.0|IN_VEHICLE|      8| 22.0|\n",
      "|41.93227| 2.23039|movistar|     2| 3G| 79.3|       9.0|      12.0|IN_VEHICLE|     14|  8.0|\n",
      "|40.63149|-4.01507|movistar|     2| 2G| 20.8|       6.0|      48.0|IN_VEHICLE|     11|  9.0|\n",
      "| 41.4535|  1.8914|movistar|     2| 2G|  3.3|       7.0|      32.0|IN_VEHICLE|     13| 14.0|\n",
      "|40.70083| 0.57531|  orange|     2| 4G|  1.2|       8.0|       9.0|   ON_FOOT|     20| 20.0|\n",
      "|41.37824| 2.14529|  orange|     2| 4G|  5.1|       5.0|      28.0|   ON_FOOT|      9|  8.0|\n",
      "|  41.499| 2.15762|  orange|     2| 4G|  4.5|      10.0|      23.0|   ON_FOOT|     20| 19.0|\n",
      "|41.69241| 2.28122|movistar|     2| 3G| 81.7|       7.0|      13.0|IN_VEHICLE|     11| 17.0|\n",
      "+--------+--------+--------+------+---+-----+----------+----------+----------+-------+-----+\n",
      "only showing top 20 rows\n",
      "\n"
     ]
    }
   ],
   "source": [
    "data_processed = data.withColumn('status', data.status.cast(StringType())).withColumn(\n",
    "    'label', data.signal.cast(FloatType())).drop('signal','provider')\n",
    "data_processed.show()"
   ]
  },
  {
   "cell_type": "code",
   "execution_count": 6,
   "id": "5a377a87",
   "metadata": {},
   "outputs": [
    {
     "data": {
      "text/plain": [
       "[('lat', 'double'),\n",
       " ('long', 'double'),\n",
       " ('operator', 'string'),\n",
       " ('status', 'string'),\n",
       " ('net', 'string'),\n",
       " ('speed', 'double'),\n",
       " ('satellites', 'double'),\n",
       " ('precission', 'double'),\n",
       " ('activity', 'string'),\n",
       " ('hour_24', 'int'),\n",
       " ('label', 'float')]"
      ]
     },
     "execution_count": 6,
     "metadata": {},
     "output_type": "execute_result"
    }
   ],
   "source": [
    "data_processed.dtypes"
   ]
  },
  {
   "cell_type": "code",
   "execution_count": 7,
   "id": "150d8d25",
   "metadata": {},
   "outputs": [
    {
     "name": "stderr",
     "output_type": "stream",
     "text": [
      "                                                                                \r"
     ]
    },
    {
     "name": "stdout",
     "output_type": "stream",
     "text": [
      "+--------+--------+--------+------+---+-----+----------+----------+----------+-------+-----+-------------+-----------+--------+-------------+-------------+-------------+-------------+-------------+\n",
      "|     lat|    long|operator|status|net|speed|satellites|precission|  activity|hour_24|label|operatorindex|statusindex|netindex|activityindex|  operatorOHE|    statusOHE|       netOHE|  activityOHE|\n",
      "+--------+--------+--------+------+---+-----+----------+----------+----------+-------+-----+-------------+-----------+--------+-------------+-------------+-------------+-------------+-------------+\n",
      "|41.44828| 2.19933|  orange|     2| 4G| 11.1|      12.0|      16.0|IN_VEHICLE|     14| 14.0|          1.0|        0.0|     0.0|          0.0|(6,[1],[1.0])|(3,[0],[1.0])|(2,[0],[1.0])|(4,[0],[1.0])|\n",
      "|41.69224| 1.78829|movistar|     2| 4G|  4.9|      11.0|       7.0|   ON_FOOT|     12|  1.0|          0.0|        0.0|     0.0|          1.0|(6,[0],[1.0])|(3,[0],[1.0])|(2,[0],[1.0])|(4,[1],[1.0])|\n",
      "|41.41603|  2.1878|movistar|     0| 4G| 13.2|       6.0|      22.0|   ON_FOOT|     12| 20.0|          0.0|        1.0|     0.0|          1.0|(6,[0],[1.0])|(3,[1],[1.0])|(2,[0],[1.0])|(4,[1],[1.0])|\n",
      "|41.48979| 2.16727|  orange|     2| 4G| 10.4|       7.0|      14.0|ON_BICYCLE|     11| 18.0|          1.0|        0.0|     0.0|          4.0|(6,[1],[1.0])|(3,[0],[1.0])|(2,[0],[1.0])|    (4,[],[])|\n",
      "|41.43914| 1.86436| jazztel|     2| 2G| 13.3|       5.0|      32.0|IN_VEHICLE|     22|  5.0|          3.0|        0.0|     2.0|          0.0|(6,[3],[1.0])|(3,[0],[1.0])|    (2,[],[])|(4,[0],[1.0])|\n",
      "|26.68327|-81.9076|  others|     2| 4G|  1.9|       8.0|       3.0|   ON_FOOT|     17| 20.0|          2.0|        0.0|     0.0|          1.0|(6,[2],[1.0])|(3,[0],[1.0])|(2,[0],[1.0])|(4,[1],[1.0])|\n",
      "| 41.9066| 2.24868| jazztel|     2| 3G|113.8|      11.0|      15.0|IN_VEHICLE|     18| 12.0|          3.0|        0.0|     1.0|          0.0|(6,[3],[1.0])|(3,[0],[1.0])|(2,[1],[1.0])|(4,[0],[1.0])|\n",
      "|42.14808| 2.57902|  orange|     0| 2G|  2.5|       5.0|       9.0|IN_VEHICLE|     13|  8.0|          1.0|        1.0|     2.0|          0.0|(6,[1],[1.0])|(3,[1],[1.0])|    (2,[],[])|(4,[0],[1.0])|\n",
      "|41.67071| 2.27547|  orange|     2| 3G| 98.0|       4.0|       3.0|IN_VEHICLE|     11| 14.0|          1.0|        0.0|     1.0|          0.0|(6,[1],[1.0])|(3,[0],[1.0])|(2,[1],[1.0])|(4,[0],[1.0])|\n",
      "|41.19431| 0.77823|  orange|     0| 4G|  0.6|       1.0|      15.0|   TILTING|     10| 10.0|          1.0|        1.0|     0.0|          3.0|(6,[1],[1.0])|(3,[1],[1.0])|(2,[0],[1.0])|(4,[3],[1.0])|\n",
      "|41.43112| 2.15092| jazztel|     2| 4G| 14.2|       8.0|      12.0|IN_VEHICLE|     11|  8.0|          3.0|        0.0|     0.0|          0.0|(6,[3],[1.0])|(3,[0],[1.0])|(2,[0],[1.0])|(4,[0],[1.0])|\n",
      "|42.16698| 2.47583|  orange|     2| 3G| 35.0|       4.0|       9.0|IN_VEHICLE|     11| 16.0|          1.0|        0.0|     1.0|          0.0|(6,[1],[1.0])|(3,[0],[1.0])|(2,[1],[1.0])|(4,[0],[1.0])|\n",
      "|41.44999| 2.19676|movistar|     2| 4G| 45.8|       3.0|      34.0|IN_VEHICLE|      8| 22.0|          0.0|        0.0|     0.0|          0.0|(6,[0],[1.0])|(3,[0],[1.0])|(2,[0],[1.0])|(4,[0],[1.0])|\n",
      "|41.93227| 2.23039|movistar|     2| 3G| 79.3|       9.0|      12.0|IN_VEHICLE|     14|  8.0|          0.0|        0.0|     1.0|          0.0|(6,[0],[1.0])|(3,[0],[1.0])|(2,[1],[1.0])|(4,[0],[1.0])|\n",
      "|40.63149|-4.01507|movistar|     2| 2G| 20.8|       6.0|      48.0|IN_VEHICLE|     11|  9.0|          0.0|        0.0|     2.0|          0.0|(6,[0],[1.0])|(3,[0],[1.0])|    (2,[],[])|(4,[0],[1.0])|\n",
      "| 41.4535|  1.8914|movistar|     2| 2G|  3.3|       7.0|      32.0|IN_VEHICLE|     13| 14.0|          0.0|        0.0|     2.0|          0.0|(6,[0],[1.0])|(3,[0],[1.0])|    (2,[],[])|(4,[0],[1.0])|\n",
      "|40.70083| 0.57531|  orange|     2| 4G|  1.2|       8.0|       9.0|   ON_FOOT|     20| 20.0|          1.0|        0.0|     0.0|          1.0|(6,[1],[1.0])|(3,[0],[1.0])|(2,[0],[1.0])|(4,[1],[1.0])|\n",
      "|41.37824| 2.14529|  orange|     2| 4G|  5.1|       5.0|      28.0|   ON_FOOT|      9|  8.0|          1.0|        0.0|     0.0|          1.0|(6,[1],[1.0])|(3,[0],[1.0])|(2,[0],[1.0])|(4,[1],[1.0])|\n",
      "|  41.499| 2.15762|  orange|     2| 4G|  4.5|      10.0|      23.0|   ON_FOOT|     20| 19.0|          1.0|        0.0|     0.0|          1.0|(6,[1],[1.0])|(3,[0],[1.0])|(2,[0],[1.0])|(4,[1],[1.0])|\n",
      "|41.69241| 2.28122|movistar|     2| 3G| 81.7|       7.0|      13.0|IN_VEHICLE|     11| 17.0|          0.0|        0.0|     1.0|          0.0|(6,[0],[1.0])|(3,[0],[1.0])|(2,[1],[1.0])|(4,[0],[1.0])|\n",
      "+--------+--------+--------+------+---+-----+----------+----------+----------+-------+-----+-------------+-----------+--------+-------------+-------------+-------------+-------------+-------------+\n",
      "only showing top 20 rows\n",
      "\n"
     ]
    }
   ],
   "source": [
    "categoricalCols = [field for (field, dataType) in data_processed.dtypes if dataType == \"string\"]\n",
    "inputOutputCols = [x+\"index\" for x in categoricalCols]\n",
    "oheOutputCols = [x+\"OHE\" for x in categoricalCols]\n",
    "stringIndexer = StringIndexer(inputCols=categoricalCols,\n",
    "                             outputCols=inputOutputCols,\n",
    "                             handleInvalid=\"skip\")\n",
    "oheEncoder = OneHotEncoder(inputCols=inputOutputCols,\n",
    "                          outputCols=oheOutputCols)\n",
    "data_indexed = stringIndexer.fit(data_processed).transform(data_processed)\n",
    "df = oheEncoder.fit(data_indexed).transform(data_indexed)\n",
    "df.show()"
   ]
  },
  {
   "cell_type": "code",
   "execution_count": 8,
   "id": "87376369",
   "metadata": {},
   "outputs": [
    {
     "name": "stdout",
     "output_type": "stream",
     "text": [
      "+--------------------+\n",
      "|            features|\n",
      "+--------------------+\n",
      "|(21,[0,1,2,3,4,5,...|\n",
      "|(21,[0,1,2,3,4,5,...|\n",
      "|(21,[0,1,2,3,4,5,...|\n",
      "|(21,[0,1,2,3,4,6,...|\n",
      "|(21,[0,1,2,3,4,5,...|\n",
      "|(21,[0,1,2,3,4,5,...|\n",
      "|(21,[0,1,2,3,4,5,...|\n",
      "|(21,[0,1,2,3,4,5,...|\n",
      "|(21,[0,1,3,4,5,7,...|\n",
      "|(21,[0,1,2,3,4,5,...|\n",
      "|(21,[0,1,2,3,4,5,...|\n",
      "|(21,[0,1,2,3,4,5,...|\n",
      "|(21,[0,1,2,3,4,5,...|\n",
      "|(21,[0,1,2,3,4,5,...|\n",
      "|(21,[0,1,2,3,4,5,...|\n",
      "|(21,[0,1,2,3,4,5,...|\n",
      "|(21,[0,1,2,3,4,5,...|\n",
      "|(21,[0,1,2,3,4,5,...|\n",
      "|(21,[0,1,2,3,4,5,...|\n",
      "|(21,[0,1,2,3,4,5,...|\n",
      "+--------------------+\n",
      "only showing top 20 rows\n",
      "\n"
     ]
    }
   ],
   "source": [
    "numeric_cols = [field for (field, dataType) in data_processed.dtypes if ((dataType != \"string\") & (field !='label'))]\n",
    "assembled_inputs = numeric_cols+oheOutputCols\n",
    "assembled_inputs\n",
    "vecAssembler = VectorAssembler(inputCols=assembled_inputs, outputCol='features')\n",
    "train_df, test_df = vecAssembler.transform(df).randomSplit([0.8, 0.2], seed=777)\n",
    "#train_df.withColumn('features', DenseVector(train_df.features)).show()\n",
    "test_df.select('features').show()"
   ]
  },
  {
   "cell_type": "code",
   "execution_count": 9,
   "id": "58806e98",
   "metadata": {},
   "outputs": [
    {
     "name": "stderr",
     "output_type": "stream",
     "text": [
      "                                                                                \r"
     ]
    },
    {
     "ename": "AnalysisException",
     "evalue": "Can't extract value from scaled_features#4473: need struct type but got struct<type:tinyint,size:int,indices:array<int>,values:array<double>>",
     "output_type": "error",
     "traceback": [
      "\u001b[0;31m---------------------------------------------------------------------------\u001b[0m",
      "\u001b[0;31mAnalysisException\u001b[0m                         Traceback (most recent call last)",
      "Input \u001b[0;32mIn [9]\u001b[0m, in \u001b[0;36m<cell line: 2>\u001b[0;34m()\u001b[0m\n\u001b[1;32m      1\u001b[0m scala \u001b[38;5;241m=\u001b[39m StandardScaler(inputCol\u001b[38;5;241m=\u001b[39m\u001b[38;5;124m'\u001b[39m\u001b[38;5;124mfeatures\u001b[39m\u001b[38;5;124m'\u001b[39m,  outputCol\u001b[38;5;241m=\u001b[39m\u001b[38;5;124m'\u001b[39m\u001b[38;5;124mscaled_features\u001b[39m\u001b[38;5;124m'\u001b[39m, withStd\u001b[38;5;241m=\u001b[39m\u001b[38;5;28;01mTrue\u001b[39;00m, withMean\u001b[38;5;241m=\u001b[39m\u001b[38;5;28;01mTrue\u001b[39;00m)\n\u001b[0;32m----> 2\u001b[0m \u001b[43mscala\u001b[49m\u001b[38;5;241;43m.\u001b[39;49m\u001b[43mfit\u001b[49m\u001b[43m(\u001b[49m\u001b[43mtest_df\u001b[49m\u001b[43m)\u001b[49m\u001b[38;5;241;43m.\u001b[39;49m\u001b[43mtransform\u001b[49m\u001b[43m(\u001b[49m\u001b[43mtest_df\u001b[49m\u001b[43m)\u001b[49m\u001b[38;5;241;43m.\u001b[39;49m\u001b[43mselect\u001b[49m\u001b[43m(\u001b[49m\u001b[43mF\u001b[49m\u001b[38;5;241;43m.\u001b[39;49m\u001b[43mcol\u001b[49m\u001b[43m(\u001b[49m\u001b[38;5;124;43m'\u001b[39;49m\u001b[38;5;124;43mscaled_features\u001b[39;49m\u001b[38;5;124;43m'\u001b[39;49m\u001b[43m)\u001b[49m\u001b[43m[\u001b[49m\u001b[38;5;241;43m0\u001b[39;49m\u001b[43m]\u001b[49m\u001b[43m)\u001b[49m\u001b[38;5;241m.\u001b[39mtake(\u001b[38;5;241m2\u001b[39m)\n",
      "File \u001b[0;32m~/spark-3.3.1-bin-hadoop3/python/pyspark/sql/dataframe.py:2023\u001b[0m, in \u001b[0;36mDataFrame.select\u001b[0;34m(self, *cols)\u001b[0m\n\u001b[1;32m   2002\u001b[0m \u001b[38;5;28;01mdef\u001b[39;00m \u001b[38;5;21mselect\u001b[39m(\u001b[38;5;28mself\u001b[39m, \u001b[38;5;241m*\u001b[39mcols: \u001b[38;5;124m\"\u001b[39m\u001b[38;5;124mColumnOrName\u001b[39m\u001b[38;5;124m\"\u001b[39m) \u001b[38;5;241m-\u001b[39m\u001b[38;5;241m>\u001b[39m \u001b[38;5;124m\"\u001b[39m\u001b[38;5;124mDataFrame\u001b[39m\u001b[38;5;124m\"\u001b[39m:  \u001b[38;5;66;03m# type: ignore[misc]\u001b[39;00m\n\u001b[1;32m   2003\u001b[0m     \u001b[38;5;124;03m\"\"\"Projects a set of expressions and returns a new :class:`DataFrame`.\u001b[39;00m\n\u001b[1;32m   2004\u001b[0m \n\u001b[1;32m   2005\u001b[0m \u001b[38;5;124;03m    .. versionadded:: 1.3.0\u001b[39;00m\n\u001b[0;32m   (...)\u001b[0m\n\u001b[1;32m   2021\u001b[0m \u001b[38;5;124;03m    [Row(name='Alice', age=12), Row(name='Bob', age=15)]\u001b[39;00m\n\u001b[1;32m   2022\u001b[0m \u001b[38;5;124;03m    \"\"\"\u001b[39;00m\n\u001b[0;32m-> 2023\u001b[0m     jdf \u001b[38;5;241m=\u001b[39m \u001b[38;5;28;43mself\u001b[39;49m\u001b[38;5;241;43m.\u001b[39;49m\u001b[43m_jdf\u001b[49m\u001b[38;5;241;43m.\u001b[39;49m\u001b[43mselect\u001b[49m\u001b[43m(\u001b[49m\u001b[38;5;28;43mself\u001b[39;49m\u001b[38;5;241;43m.\u001b[39;49m\u001b[43m_jcols\u001b[49m\u001b[43m(\u001b[49m\u001b[38;5;241;43m*\u001b[39;49m\u001b[43mcols\u001b[49m\u001b[43m)\u001b[49m\u001b[43m)\u001b[49m\n\u001b[1;32m   2024\u001b[0m     \u001b[38;5;28;01mreturn\u001b[39;00m DataFrame(jdf, \u001b[38;5;28mself\u001b[39m\u001b[38;5;241m.\u001b[39msparkSession)\n",
      "File \u001b[0;32m~/spark-3.3.1-bin-hadoop3/python/lib/py4j-0.10.9.5-src.zip/py4j/java_gateway.py:1321\u001b[0m, in \u001b[0;36mJavaMember.__call__\u001b[0;34m(self, *args)\u001b[0m\n\u001b[1;32m   1315\u001b[0m command \u001b[38;5;241m=\u001b[39m proto\u001b[38;5;241m.\u001b[39mCALL_COMMAND_NAME \u001b[38;5;241m+\u001b[39m\\\n\u001b[1;32m   1316\u001b[0m     \u001b[38;5;28mself\u001b[39m\u001b[38;5;241m.\u001b[39mcommand_header \u001b[38;5;241m+\u001b[39m\\\n\u001b[1;32m   1317\u001b[0m     args_command \u001b[38;5;241m+\u001b[39m\\\n\u001b[1;32m   1318\u001b[0m     proto\u001b[38;5;241m.\u001b[39mEND_COMMAND_PART\n\u001b[1;32m   1320\u001b[0m answer \u001b[38;5;241m=\u001b[39m \u001b[38;5;28mself\u001b[39m\u001b[38;5;241m.\u001b[39mgateway_client\u001b[38;5;241m.\u001b[39msend_command(command)\n\u001b[0;32m-> 1321\u001b[0m return_value \u001b[38;5;241m=\u001b[39m \u001b[43mget_return_value\u001b[49m\u001b[43m(\u001b[49m\n\u001b[1;32m   1322\u001b[0m \u001b[43m    \u001b[49m\u001b[43manswer\u001b[49m\u001b[43m,\u001b[49m\u001b[43m \u001b[49m\u001b[38;5;28;43mself\u001b[39;49m\u001b[38;5;241;43m.\u001b[39;49m\u001b[43mgateway_client\u001b[49m\u001b[43m,\u001b[49m\u001b[43m \u001b[49m\u001b[38;5;28;43mself\u001b[39;49m\u001b[38;5;241;43m.\u001b[39;49m\u001b[43mtarget_id\u001b[49m\u001b[43m,\u001b[49m\u001b[43m \u001b[49m\u001b[38;5;28;43mself\u001b[39;49m\u001b[38;5;241;43m.\u001b[39;49m\u001b[43mname\u001b[49m\u001b[43m)\u001b[49m\n\u001b[1;32m   1324\u001b[0m \u001b[38;5;28;01mfor\u001b[39;00m temp_arg \u001b[38;5;129;01min\u001b[39;00m temp_args:\n\u001b[1;32m   1325\u001b[0m     temp_arg\u001b[38;5;241m.\u001b[39m_detach()\n",
      "File \u001b[0;32m~/spark-3.3.1-bin-hadoop3/python/pyspark/sql/utils.py:196\u001b[0m, in \u001b[0;36mcapture_sql_exception.<locals>.deco\u001b[0;34m(*a, **kw)\u001b[0m\n\u001b[1;32m    192\u001b[0m converted \u001b[38;5;241m=\u001b[39m convert_exception(e\u001b[38;5;241m.\u001b[39mjava_exception)\n\u001b[1;32m    193\u001b[0m \u001b[38;5;28;01mif\u001b[39;00m \u001b[38;5;129;01mnot\u001b[39;00m \u001b[38;5;28misinstance\u001b[39m(converted, UnknownException):\n\u001b[1;32m    194\u001b[0m     \u001b[38;5;66;03m# Hide where the exception came from that shows a non-Pythonic\u001b[39;00m\n\u001b[1;32m    195\u001b[0m     \u001b[38;5;66;03m# JVM exception message.\u001b[39;00m\n\u001b[0;32m--> 196\u001b[0m     \u001b[38;5;28;01mraise\u001b[39;00m converted \u001b[38;5;28;01mfrom\u001b[39;00m \u001b[38;5;28mNone\u001b[39m\n\u001b[1;32m    197\u001b[0m \u001b[38;5;28;01melse\u001b[39;00m:\n\u001b[1;32m    198\u001b[0m     \u001b[38;5;28;01mraise\u001b[39;00m\n",
      "\u001b[0;31mAnalysisException\u001b[0m: Can't extract value from scaled_features#4473: need struct type but got struct<type:tinyint,size:int,indices:array<int>,values:array<double>>"
     ]
    }
   ],
   "source": [
    "scala = StandardScaler(inputCol='features',  outputCol='scaled_features', withStd=True, withMean=True)\n",
    "scala.fit(test_df).transform(test_df).select(F.col('scaled_features')[0]).take(2)"
   ]
  },
  {
   "cell_type": "code",
   "execution_count": null,
   "id": "61c87778",
   "metadata": {},
   "outputs": [],
   "source": [
    "rf = RandomForestRegressor(featuresCol='features', labelCol='label')\n",
    "rf_model = rf.fit(train_df)\n",
    "predicted_df = rf_model.transform(test_df)\n",
    "evaluator = RegressionEvaluator(labelCol='label', predictionCol='prediction')\n",
    "rmse = evaluator.evaluate(rf_model.transform(test_df), {evaluator.metricName: \"rmse\"})\n",
    "rmse"
   ]
  },
  {
   "cell_type": "code",
   "execution_count": null,
   "id": "c5dff366",
   "metadata": {},
   "outputs": [],
   "source": [
    "param_grid = ParamGridBuilder() \\\n",
    "    .addGrid(rf.numTrees, [35, 33, 37]) \\\n",
    "    .addGrid(rf.maxDepth, [10]) \\\n",
    "    .build()\n",
    "evaluator = RegressionEvaluator(labelCol=\"label\", predictionCol=\"prediction\", metricName=\"rmse\")\n",
    "tvs = TrainValidationSplit(estimator=rf,\n",
    "                           estimatorParamMaps=param_grid,\n",
    "                           evaluator=RegressionEvaluator(),\n",
    "                           # 80% of the data will be used for training, 20% for validation.\n",
    "                           trainRatio=0.8)\n",
    "tvs_model = tvs.fit(train_df)"
   ]
  },
  {
   "cell_type": "code",
   "execution_count": null,
   "id": "4fb7f210",
   "metadata": {},
   "outputs": [],
   "source": [
    "rmse = evaluator.evaluate(tvs_model.transform(test_df), {evaluator.metricName: \"rmse\"})\n",
    "rmse"
   ]
  },
  {
   "cell_type": "code",
   "execution_count": null,
   "id": "38d96a53",
   "metadata": {},
   "outputs": [],
   "source": [
    "tvs_model.bestModel.extractParamMap()"
   ]
  },
  {
   "cell_type": "code",
   "execution_count": null,
   "id": "bd279ba6",
   "metadata": {},
   "outputs": [],
   "source": [
    "param_grid = ParamGridBuilder() \\\n",
    "    .addGrid(rf.numTrees, [10, 20]) \\\n",
    "    .addGrid(rf.maxDepth, [5, 10]) \\\n",
    "    .build()\n",
    "cv = CrossValidator(estimator=rf, estimatorParamMaps=param_grid, evaluator=RegressionEvaluator(),\n",
    "                    numFolds=3)\n",
    "cvmodel = cv.fit(train_df)"
   ]
  },
  {
   "cell_type": "code",
   "execution_count": null,
   "id": "5b72d127",
   "metadata": {},
   "outputs": [],
   "source": []
  },
  {
   "cell_type": "code",
   "execution_count": null,
   "id": "605f3fd0",
   "metadata": {},
   "outputs": [],
   "source": [
    "cvmodel.transform(test_df)"
   ]
  },
  {
   "cell_type": "code",
   "execution_count": null,
   "id": "afd04bad",
   "metadata": {},
   "outputs": [],
   "source": [
    "evaluator = RegressionEvaluator(labelCol='label', predictionCol='prediction')\n",
    "rmse = evaluator.evaluate(cvmodel.transform(test_df), {evaluator.metricName: \"rmse\"})\n",
    "rmse"
   ]
  },
  {
   "cell_type": "code",
   "execution_count": null,
   "id": "342f8254",
   "metadata": {},
   "outputs": [],
   "source": [
    "rmse = evaluator.evaluate(rf_model.transform(test_df), {evaluator.metricName: \"rmse\"})\n",
    "rmse"
   ]
  }
 ],
 "metadata": {
  "kernelspec": {
   "display_name": "Python 3 (ipykernel)",
   "language": "python",
   "name": "python3"
  },
  "language_info": {
   "codemirror_mode": {
    "name": "ipython",
    "version": 3
   },
   "file_extension": ".py",
   "mimetype": "text/x-python",
   "name": "python",
   "nbconvert_exporter": "python",
   "pygments_lexer": "ipython3",
   "version": "3.9.12"
  }
 },
 "nbformat": 4,
 "nbformat_minor": 5
}
